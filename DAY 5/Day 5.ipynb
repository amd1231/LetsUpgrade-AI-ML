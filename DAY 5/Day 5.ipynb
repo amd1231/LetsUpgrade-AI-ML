{
 "cells": [
  {
   "cell_type": "markdown",
   "metadata": {},
   "source": [
    "# DAY 5"
   ]
  },
  {
   "cell_type": "raw",
   "metadata": {},
   "source": [
    "Que 1:"
   ]
  },
  {
   "cell_type": "code",
   "execution_count": 53,
   "metadata": {},
   "outputs": [
    {
     "name": "stdout",
     "output_type": "stream",
     "text": [
      "Enter the numbers you want:20\n",
      "3\t5\t7\t11\t13\t17\t19\t23\t29\t31\t37\t41\t43\t47\t53\t59\t61\t67\t71\t73\t"
     ]
    }
   ],
   "source": [
    "a = int(input(\"Enter the numbers you want:\"))\n",
    "l = []\n",
    "for i in range(1,100):\n",
    "     if i>2 and len(l) <= a-1:   \n",
    "        for j in range(2,i):\n",
    "            if(i % j) == 0:\n",
    "                break\n",
    "        else:\n",
    "            l.append(i)\n",
    "for d in l:\n",
    "    print(d,end=\"\\t\")"
   ]
  },
  {
   "cell_type": "raw",
   "metadata": {},
   "source": [
    "Que 2:"
   ]
  },
  {
   "cell_type": "code",
   "execution_count": 92,
   "metadata": {},
   "outputs": [
    {
     "name": "stdout",
     "output_type": "stream",
     "text": [
      "1.To make lower:  keep calm,and love letsupgrade\n",
      "2. To make first letter capital:  Keep calm,and love letsupgrade\n",
      "3. To replace:  Keep calm,always Love LetsUpgrade\n",
      "4. To make all Capital:  KEEP CALM,AND LOVE LETSUPGRADE\n",
      "5. To check index:  5\n",
      "6. To check whether nubers are there in string :  False\n",
      "7. To check whether string is lower :  False\n",
      "8. To make partition from and:  ('Keep calm,', 'and', ' Love LetsUpgrade')\n",
      "9. To check string starts from m:  False\n",
      "10. To find  and return the index:  14\n",
      "11. To make center:  Keep calm,and Love LetsUpgrade\n",
      "12. To check all Capital:  False\n",
      "13. To check space:  False\n",
      "14. To check whethet it is printable:  True\n",
      "15. To change the case:  kEEP CALM,AND lOVE lETSuPGRADE\n"
     ]
    }
   ],
   "source": [
    "str1 = \"Keep calm,and Love LetsUpgrade\" \n",
    "print(\"1.To make lower: \",str1.lower())\n",
    "print(\"2. To make first letter capital: \",str1.capitalize())\n",
    "print(\"3. To replace: \",str1.replace('and','always'))\n",
    "print(\"4. To make all Capital: \",str1.upper())\n",
    "print(\"5. To check index: \",str1.index('c'))\n",
    "print(\"6. To check whether nubers are there in string : \",str1.isnumeric())\n",
    "print(\"7. To check whether string is lower : \",str1.islower())\n",
    "print(\"8. To make partition from and: \",str1.partition('and'))\n",
    "print(\"9. To check string starts from m: \",str1.startswith('m'))\n",
    "print(\"10. To find  and return the index: \",str1.find('Love'))\n",
    "print(\"11. To make center: \",str1.center(9))\n",
    "print(\"12. To check all Capital: \",str1.isupper())\n",
    "print(\"13. To check space: \",str1.isspace())\n",
    "print(\"14. To check whethet it is printable: \",str1.isprintable())\n",
    "print(\"15. To change the case: \",str1.swapcase())\n",
    "    \n",
    "\n",
    "        "
   ]
  },
  {
   "cell_type": "raw",
   "metadata": {},
   "source": [
    "Que 3:"
   ]
  },
  {
   "cell_type": "code",
   "execution_count": 101,
   "metadata": {},
   "outputs": [
    {
     "name": "stdout",
     "output_type": "stream",
     "text": [
      "Enter any string: rotor\n",
      "Enter any string: ortor\n",
      "It is Angram and  string 2 is Palindrome\n"
     ]
    }
   ],
   "source": [
    "str2 = input(\"Enter any string: \")\n",
    "str3 = input(\"Enter any string: \")\n",
    "if((sorted(str2) == sorted(str3)) and (str2 == str2[::-1])):\n",
    "    print(\"It is Angram and  string 2 is Palindrome\")\n",
    "elif((sorted(str2) != sorted(str3)) and (str2 == str2[::-1])):\n",
    "    print(\"It is not Angram but string 2 isPalindrome\")\n",
    "elif((sorted(str2) == sorted(str3)) and (str2 != str2[::-1])):\n",
    "    print(\"It is Angram but string 2 is not Palindrome\")\n",
    "else:\n",
    "    print(\"It is Nothing\")"
   ]
  },
  {
   "cell_type": "raw",
   "metadata": {},
   "source": [
    "Que 4:"
   ]
  },
  {
   "cell_type": "code",
   "execution_count": 15,
   "metadata": {},
   "outputs": [],
   "source": [
    "def removeaditional_char(str4):\n",
    "    additional_char = ['.','@','-','<','>','*','&','$','#','!','*','+','-',':','_','?','%',' ']\n",
    "    for i in additional_char:\n",
    "        str4 = str4.replace(i,\"\")\n",
    "    return str4.lower()\n",
    "    \n",
    "\n"
   ]
  },
  {
   "cell_type": "code",
   "execution_count": 16,
   "metadata": {},
   "outputs": [
    {
     "name": "stdout",
     "output_type": "stream",
     "text": [
      "Enter any string: Dr. Darshan Ingle @AI-ML Trainer\n",
      "drdarshaningleaimltrainer\n"
     ]
    }
   ],
   "source": [
    "print(removeaditional_char(input(\"Enter any string: \")))"
   ]
  },
  {
   "cell_type": "code",
   "execution_count": null,
   "metadata": {},
   "outputs": [],
   "source": []
  },
  {
   "cell_type": "code",
   "execution_count": null,
   "metadata": {},
   "outputs": [],
   "source": []
  },
  {
   "cell_type": "code",
   "execution_count": null,
   "metadata": {},
   "outputs": [],
   "source": []
  }
 ],
 "metadata": {
  "kernelspec": {
   "display_name": "Python 3",
   "language": "python",
   "name": "python3"
  },
  "language_info": {
   "codemirror_mode": {
    "name": "ipython",
    "version": 3
   },
   "file_extension": ".py",
   "mimetype": "text/x-python",
   "name": "python",
   "nbconvert_exporter": "python",
   "pygments_lexer": "ipython3",
   "version": "3.7.6"
  }
 },
 "nbformat": 4,
 "nbformat_minor": 4
}
