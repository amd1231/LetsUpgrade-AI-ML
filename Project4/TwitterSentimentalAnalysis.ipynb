{
 "cells": [
  {
   "cell_type": "code",
   "execution_count": 12,
   "metadata": {},
   "outputs": [
    {
     "name": "stdout",
     "output_type": "stream",
     "text": [
      "Requirement already satisfied: tweepy in c:\\users\\admin\\anaconda3\\lib\\site-packages (3.9.0)\n",
      "Requirement already satisfied: requests-oauthlib>=0.7.0 in c:\\users\\admin\\anaconda3\\lib\\site-packages (from tweepy) (1.3.0)\n",
      "Requirement already satisfied: six>=1.10.0 in c:\\users\\admin\\anaconda3\\lib\\site-packages (from tweepy) (1.14.0)\n",
      "Requirement already satisfied: requests[socks]>=2.11.1 in c:\\users\\admin\\anaconda3\\lib\\site-packages (from tweepy) (2.22.0)\n",
      "Requirement already satisfied: oauthlib>=3.0.0 in c:\\users\\admin\\anaconda3\\lib\\site-packages (from requests-oauthlib>=0.7.0->tweepy) (3.1.0)\n",
      "Requirement already satisfied: idna<2.9,>=2.5 in c:\\users\\admin\\anaconda3\\lib\\site-packages (from requests[socks]>=2.11.1->tweepy) (2.8)\n",
      "Requirement already satisfied: urllib3!=1.25.0,!=1.25.1,<1.26,>=1.21.1 in c:\\users\\admin\\anaconda3\\lib\\site-packages (from requests[socks]>=2.11.1->tweepy) (1.25.8)\n",
      "Requirement already satisfied: chardet<3.1.0,>=3.0.2 in c:\\users\\admin\\anaconda3\\lib\\site-packages (from requests[socks]>=2.11.1->tweepy) (3.0.4)\n",
      "Requirement already satisfied: certifi>=2017.4.17 in c:\\users\\admin\\anaconda3\\lib\\site-packages (from requests[socks]>=2.11.1->tweepy) (2019.11.28)\n",
      "Requirement already satisfied: PySocks!=1.5.7,>=1.5.6; extra == \"socks\" in c:\\users\\admin\\anaconda3\\lib\\site-packages (from requests[socks]>=2.11.1->tweepy) (1.7.1)\n"
     ]
    }
   ],
   "source": [
    "!pip install tweepy"
   ]
  },
  {
   "cell_type": "code",
   "execution_count": 13,
   "metadata": {},
   "outputs": [
    {
     "name": "stdout",
     "output_type": "stream",
     "text": [
      "Requirement already satisfied: openpyxl in c:\\users\\admin\\anaconda3\\lib\\site-packages (3.0.3)\n",
      "Requirement already satisfied: jdcal in c:\\users\\admin\\anaconda3\\lib\\site-packages (from openpyxl) (1.4.1)\n",
      "Requirement already satisfied: et-xmlfile in c:\\users\\admin\\anaconda3\\lib\\site-packages (from openpyxl) (1.0.1)\n"
     ]
    }
   ],
   "source": [
    "!pip install openpyxl"
   ]
  },
  {
   "cell_type": "code",
   "execution_count": 14,
   "metadata": {},
   "outputs": [
    {
     "name": "stdout",
     "output_type": "stream",
     "text": [
      "Requirement already satisfied: textblob in c:\\users\\admin\\anaconda3\\lib\\site-packages (0.15.3)\n",
      "Requirement already satisfied: nltk>=3.1 in c:\\users\\admin\\anaconda3\\lib\\site-packages (from textblob) (3.4.5)\n",
      "Requirement already satisfied: six in c:\\users\\admin\\anaconda3\\lib\\site-packages (from nltk>=3.1->textblob) (1.14.0)\n"
     ]
    }
   ],
   "source": [
    "!pip install textblob"
   ]
  },
  {
   "cell_type": "code",
   "execution_count": 29,
   "metadata": {},
   "outputs": [],
   "source": [
    "import numpy as np\n",
    "import pandas as pd\n",
    "import tweepy\n",
    "import json\n",
    "from tweepy import OAuthHandler\n",
    "from textblob import TextBlob"
   ]
  },
  {
   "cell_type": "code",
   "execution_count": 30,
   "metadata": {},
   "outputs": [],
   "source": [
    "consumer_key = \"aLLQvDLmhAOkNk5MDqU27zuuT\"\n",
    "consumer_secret = \"5QV9PrONUUSLq7vl5r8ym2VT179O7183SEtQr05YUZj7bvL79R\"\n",
    "access_token = \"1059032401806905344-S8exSOSSRVYEs5ukRywHxrvfJqqg6y\"\n",
    "access_token_secret = \"mk44YJbKjNH08l83hgxUH3Pi6rZHtTFolneazwIeWVEx5\"\n"
   ]
  },
  {
   "cell_type": "code",
   "execution_count": 31,
   "metadata": {},
   "outputs": [],
   "source": [
    "auth = tweepy.OAuthHandler( consumer_key , consumer_secret )\n",
    "auth.set_access_token( access_token , access_token_secret )\n",
    "api = tweepy.API(auth)"
   ]
  },
  {
   "cell_type": "markdown",
   "metadata": {},
   "source": [
    "query = \"Dinessh Kartik Catch\""
   ]
  },
  {
   "cell_type": "markdown",
   "metadata": {},
   "source": [
    "Tweets = api.search( query , count=10 , lang='en' , exclude='retweets' , tweet_mode='extended' )\n",
    "\n",
    "\n",
    "for tweet in Tweets:\n",
    "    print(tweet,\"\\n\")\n",
    "    print(\".....................................\\n\")"
   ]
  },
  {
   "cell_type": "code",
   "execution_count": null,
   "metadata": {},
   "outputs": [],
   "source": []
  },
  {
   "cell_type": "code",
   "execution_count": null,
   "metadata": {},
   "outputs": [],
   "source": []
  },
  {
   "cell_type": "code",
   "execution_count": 18,
   "metadata": {},
   "outputs": [
    {
     "name": "stdout",
     "output_type": "stream",
     "text": [
      "Empty DataFrame\n",
      "Columns: [Tweets, User, User_statuses_count, user_followers, User_location, User_verified, fav_count, rt_count, tweet_date]\n",
      "Index: []\n"
     ]
    }
   ],
   "source": [
    "df = pd.DataFrame( columns = ['Tweets' , 'User' , 'User_statuses_count' , \n",
    "                            'user_followers' , 'User_location' , 'User_verified' ,\n",
    "                            'fav_count' , 'rt_count' , 'tweet_date'])\n",
    "print(df)"
   ]
  },
  {
   "cell_type": "code",
   "execution_count": 19,
   "metadata": {},
   "outputs": [],
   "source": [
    "#Tweepy Cursor\n",
    "def stream(data, file_name):\n",
    "    i = 0\n",
    "    for tweet in tweepy.Cursor(api.search, q=data, count=100, lang='en').items():\n",
    "        print(i, end='\\r')\n",
    "        df.loc[i, 'Tweets'] = tweet.text\n",
    "        df.loc[i, 'User'] = tweet.user.name\n",
    "        df.loc[i, 'User_statuses_count'] = tweet.user.statuses_count\n",
    "        df.loc[i, 'user_followers'] = tweet.user.followers_count\n",
    "        df.loc[i, 'User_location'] = tweet.user.location\n",
    "        df.loc[i, 'User_verified'] = tweet.user.verified\n",
    "        df.loc[i, 'fav_count'] = tweet.favorite_count\n",
    "        df.loc[i, 'rt_count'] = tweet.retweet_count\n",
    "        df.loc[i, 'tweet_date'] = tweet.created_at\n",
    "        df.to_excel('{}.xlsx'.format(file_name))\n",
    "        i = i+1\n",
    "        if i == 1000:\n",
    "            break\n",
    "        else:\n",
    "            pass"
   ]
  },
  {
   "cell_type": "code",
   "execution_count": 36,
   "metadata": {},
   "outputs": [
    {
     "name": "stdout",
     "output_type": "stream",
     "text": [
      "999\r"
     ]
    }
   ],
   "source": [
    "stream(data = [\"Bihar Election Polls \"],file_name=\"analysis6\")"
   ]
  },
  {
   "cell_type": "code",
   "execution_count": 37,
   "metadata": {},
   "outputs": [
    {
     "data": {
      "text/html": [
       "<div>\n",
       "<style scoped>\n",
       "    .dataframe tbody tr th:only-of-type {\n",
       "        vertical-align: middle;\n",
       "    }\n",
       "\n",
       "    .dataframe tbody tr th {\n",
       "        vertical-align: top;\n",
       "    }\n",
       "\n",
       "    .dataframe thead th {\n",
       "        text-align: right;\n",
       "    }\n",
       "</style>\n",
       "<table border=\"1\" class=\"dataframe\">\n",
       "  <thead>\n",
       "    <tr style=\"text-align: right;\">\n",
       "      <th></th>\n",
       "      <th>Tweets</th>\n",
       "      <th>User</th>\n",
       "      <th>User_statuses_count</th>\n",
       "      <th>user_followers</th>\n",
       "      <th>User_location</th>\n",
       "      <th>User_verified</th>\n",
       "      <th>fav_count</th>\n",
       "      <th>rt_count</th>\n",
       "      <th>tweet_date</th>\n",
       "    </tr>\n",
       "  </thead>\n",
       "  <tbody>\n",
       "    <tr>\n",
       "      <th>0</th>\n",
       "      <td>This man called MODI was counting list of GHOT...</td>\n",
       "      <td>RAJ</td>\n",
       "      <td>59075</td>\n",
       "      <td>499</td>\n",
       "      <td></td>\n",
       "      <td>False</td>\n",
       "      <td>0</td>\n",
       "      <td>0</td>\n",
       "      <td>2020-11-01 18:44:59</td>\n",
       "    </tr>\n",
       "    <tr>\n",
       "      <th>1</th>\n",
       "      <td>#BiharElections2020 | The Hasanpur assembly co...</td>\n",
       "      <td>Hindustan Times</td>\n",
       "      <td>795994</td>\n",
       "      <td>7800741</td>\n",
       "      <td>India</td>\n",
       "      <td>True</td>\n",
       "      <td>7</td>\n",
       "      <td>0</td>\n",
       "      <td>2020-11-01 18:15:00</td>\n",
       "    </tr>\n",
       "    <tr>\n",
       "      <th>2</th>\n",
       "      <td>RT @htTweets: #BiharElections2020 | With sharp...</td>\n",
       "      <td>Arun Kumar</td>\n",
       "      <td>8191</td>\n",
       "      <td>2604</td>\n",
       "      <td>Patna</td>\n",
       "      <td>False</td>\n",
       "      <td>0</td>\n",
       "      <td>2</td>\n",
       "      <td>2020-11-01 16:46:32</td>\n",
       "    </tr>\n",
       "    <tr>\n",
       "      <th>3</th>\n",
       "      <td>RT @htTweets: #BiharElections2020 | With sharp...</td>\n",
       "      <td>Aditya Kumar</td>\n",
       "      <td>100023</td>\n",
       "      <td>851</td>\n",
       "      <td>New Delhi, India</td>\n",
       "      <td>False</td>\n",
       "      <td>0</td>\n",
       "      <td>2</td>\n",
       "      <td>2020-11-01 16:17:39</td>\n",
       "    </tr>\n",
       "    <tr>\n",
       "      <th>4</th>\n",
       "      <td>#BiharElections2020 | With sharp attack on Opp...</td>\n",
       "      <td>Hindustan Times</td>\n",
       "      <td>795994</td>\n",
       "      <td>7800741</td>\n",
       "      <td>India</td>\n",
       "      <td>True</td>\n",
       "      <td>16</td>\n",
       "      <td>2</td>\n",
       "      <td>2020-11-01 16:15:00</td>\n",
       "    </tr>\n",
       "  </tbody>\n",
       "</table>\n",
       "</div>"
      ],
      "text/plain": [
       "                                              Tweets             User  \\\n",
       "0  This man called MODI was counting list of GHOT...              RAJ   \n",
       "1  #BiharElections2020 | The Hasanpur assembly co...  Hindustan Times   \n",
       "2  RT @htTweets: #BiharElections2020 | With sharp...       Arun Kumar   \n",
       "3  RT @htTweets: #BiharElections2020 | With sharp...     Aditya Kumar   \n",
       "4  #BiharElections2020 | With sharp attack on Opp...  Hindustan Times   \n",
       "\n",
       "  User_statuses_count user_followers     User_location User_verified  \\\n",
       "0               59075            499                           False   \n",
       "1              795994        7800741             India          True   \n",
       "2                8191           2604             Patna         False   \n",
       "3              100023            851  New Delhi, India         False   \n",
       "4              795994        7800741             India          True   \n",
       "\n",
       "  fav_count rt_count           tweet_date  \n",
       "0         0        0  2020-11-01 18:44:59  \n",
       "1         7        0  2020-11-01 18:15:00  \n",
       "2         0        2  2020-11-01 16:46:32  \n",
       "3         0        2  2020-11-01 16:17:39  \n",
       "4        16        2  2020-11-01 16:15:00  "
      ]
     },
     "execution_count": 37,
     "metadata": {},
     "output_type": "execute_result"
    }
   ],
   "source": [
    "df.head()"
   ]
  },
  {
   "cell_type": "code",
   "execution_count": 38,
   "metadata": {},
   "outputs": [],
   "source": [
    "import re\n",
    "def clean_tweet(tweet):\n",
    "    return ' '.join(re.sub('(@[A-Za-z0-9]+)|([^0-9A-Za-z \\t])|(\\w+:\\/\\/\\S+)', ' ', tweet).split())"
   ]
  },
  {
   "cell_type": "code",
   "execution_count": 39,
   "metadata": {},
   "outputs": [],
   "source": [
    "def analyze_sentiment(tweet):\n",
    "    analysis = TextBlob(tweet)\n",
    "    if analysis.sentiment.polarity > 0:\n",
    "        return 'Positive'\n",
    "    elif analysis.sentiment.polarity == 0:\n",
    "        return 'Neutral'\n",
    "    else:\n",
    "        return 'Negative'"
   ]
  },
  {
   "cell_type": "code",
   "execution_count": 40,
   "metadata": {},
   "outputs": [],
   "source": [
    "df['clean_tweet'] = df['Tweets'].apply(lambda x : clean_tweet(x))"
   ]
  },
  {
   "cell_type": "code",
   "execution_count": 41,
   "metadata": {},
   "outputs": [
    {
     "data": {
      "text/html": [
       "<div>\n",
       "<style scoped>\n",
       "    .dataframe tbody tr th:only-of-type {\n",
       "        vertical-align: middle;\n",
       "    }\n",
       "\n",
       "    .dataframe tbody tr th {\n",
       "        vertical-align: top;\n",
       "    }\n",
       "\n",
       "    .dataframe thead th {\n",
       "        text-align: right;\n",
       "    }\n",
       "</style>\n",
       "<table border=\"1\" class=\"dataframe\">\n",
       "  <thead>\n",
       "    <tr style=\"text-align: right;\">\n",
       "      <th></th>\n",
       "      <th>Tweets</th>\n",
       "      <th>User</th>\n",
       "      <th>User_statuses_count</th>\n",
       "      <th>user_followers</th>\n",
       "      <th>User_location</th>\n",
       "      <th>User_verified</th>\n",
       "      <th>fav_count</th>\n",
       "      <th>rt_count</th>\n",
       "      <th>tweet_date</th>\n",
       "      <th>clean_tweet</th>\n",
       "    </tr>\n",
       "  </thead>\n",
       "  <tbody>\n",
       "    <tr>\n",
       "      <th>0</th>\n",
       "      <td>This man called MODI was counting list of GHOT...</td>\n",
       "      <td>RAJ</td>\n",
       "      <td>59075</td>\n",
       "      <td>499</td>\n",
       "      <td></td>\n",
       "      <td>False</td>\n",
       "      <td>0</td>\n",
       "      <td>0</td>\n",
       "      <td>2020-11-01 18:44:59</td>\n",
       "      <td>This man called MODI was counting list of GHOT...</td>\n",
       "    </tr>\n",
       "    <tr>\n",
       "      <th>1</th>\n",
       "      <td>#BiharElections2020 | The Hasanpur assembly co...</td>\n",
       "      <td>Hindustan Times</td>\n",
       "      <td>795994</td>\n",
       "      <td>7800741</td>\n",
       "      <td>India</td>\n",
       "      <td>True</td>\n",
       "      <td>7</td>\n",
       "      <td>0</td>\n",
       "      <td>2020-11-01 18:15:00</td>\n",
       "      <td>BiharElections2020 The Hasanpur assembly const...</td>\n",
       "    </tr>\n",
       "    <tr>\n",
       "      <th>2</th>\n",
       "      <td>RT @htTweets: #BiharElections2020 | With sharp...</td>\n",
       "      <td>Arun Kumar</td>\n",
       "      <td>8191</td>\n",
       "      <td>2604</td>\n",
       "      <td>Patna</td>\n",
       "      <td>False</td>\n",
       "      <td>0</td>\n",
       "      <td>2</td>\n",
       "      <td>2020-11-01 16:46:32</td>\n",
       "      <td>RT BiharElections2020 With sharp attack on Opp...</td>\n",
       "    </tr>\n",
       "    <tr>\n",
       "      <th>3</th>\n",
       "      <td>RT @htTweets: #BiharElections2020 | With sharp...</td>\n",
       "      <td>Aditya Kumar</td>\n",
       "      <td>100023</td>\n",
       "      <td>851</td>\n",
       "      <td>New Delhi, India</td>\n",
       "      <td>False</td>\n",
       "      <td>0</td>\n",
       "      <td>2</td>\n",
       "      <td>2020-11-01 16:17:39</td>\n",
       "      <td>RT BiharElections2020 With sharp attack on Opp...</td>\n",
       "    </tr>\n",
       "    <tr>\n",
       "      <th>4</th>\n",
       "      <td>#BiharElections2020 | With sharp attack on Opp...</td>\n",
       "      <td>Hindustan Times</td>\n",
       "      <td>795994</td>\n",
       "      <td>7800741</td>\n",
       "      <td>India</td>\n",
       "      <td>True</td>\n",
       "      <td>16</td>\n",
       "      <td>2</td>\n",
       "      <td>2020-11-01 16:15:00</td>\n",
       "      <td>BiharElections2020 With sharp attack on Opposi...</td>\n",
       "    </tr>\n",
       "  </tbody>\n",
       "</table>\n",
       "</div>"
      ],
      "text/plain": [
       "                                              Tweets             User  \\\n",
       "0  This man called MODI was counting list of GHOT...              RAJ   \n",
       "1  #BiharElections2020 | The Hasanpur assembly co...  Hindustan Times   \n",
       "2  RT @htTweets: #BiharElections2020 | With sharp...       Arun Kumar   \n",
       "3  RT @htTweets: #BiharElections2020 | With sharp...     Aditya Kumar   \n",
       "4  #BiharElections2020 | With sharp attack on Opp...  Hindustan Times   \n",
       "\n",
       "  User_statuses_count user_followers     User_location User_verified  \\\n",
       "0               59075            499                           False   \n",
       "1              795994        7800741             India          True   \n",
       "2                8191           2604             Patna         False   \n",
       "3              100023            851  New Delhi, India         False   \n",
       "4              795994        7800741             India          True   \n",
       "\n",
       "  fav_count rt_count           tweet_date  \\\n",
       "0         0        0  2020-11-01 18:44:59   \n",
       "1         7        0  2020-11-01 18:15:00   \n",
       "2         0        2  2020-11-01 16:46:32   \n",
       "3         0        2  2020-11-01 16:17:39   \n",
       "4        16        2  2020-11-01 16:15:00   \n",
       "\n",
       "                                         clean_tweet  \n",
       "0  This man called MODI was counting list of GHOT...  \n",
       "1  BiharElections2020 The Hasanpur assembly const...  \n",
       "2  RT BiharElections2020 With sharp attack on Opp...  \n",
       "3  RT BiharElections2020 With sharp attack on Opp...  \n",
       "4  BiharElections2020 With sharp attack on Opposi...  "
      ]
     },
     "execution_count": 41,
     "metadata": {},
     "output_type": "execute_result"
    }
   ],
   "source": [
    "df.head()"
   ]
  },
  {
   "cell_type": "code",
   "execution_count": 42,
   "metadata": {},
   "outputs": [
    {
     "data": {
      "text/html": [
       "<div>\n",
       "<style scoped>\n",
       "    .dataframe tbody tr th:only-of-type {\n",
       "        vertical-align: middle;\n",
       "    }\n",
       "\n",
       "    .dataframe tbody tr th {\n",
       "        vertical-align: top;\n",
       "    }\n",
       "\n",
       "    .dataframe thead th {\n",
       "        text-align: right;\n",
       "    }\n",
       "</style>\n",
       "<table border=\"1\" class=\"dataframe\">\n",
       "  <thead>\n",
       "    <tr style=\"text-align: right;\">\n",
       "      <th></th>\n",
       "      <th>Tweets</th>\n",
       "      <th>User</th>\n",
       "      <th>User_statuses_count</th>\n",
       "      <th>user_followers</th>\n",
       "      <th>User_location</th>\n",
       "      <th>User_verified</th>\n",
       "      <th>fav_count</th>\n",
       "      <th>rt_count</th>\n",
       "      <th>tweet_date</th>\n",
       "      <th>clean_tweet</th>\n",
       "      <th>Sentiment</th>\n",
       "    </tr>\n",
       "  </thead>\n",
       "  <tbody>\n",
       "    <tr>\n",
       "      <th>0</th>\n",
       "      <td>This man called MODI was counting list of GHOT...</td>\n",
       "      <td>RAJ</td>\n",
       "      <td>59075</td>\n",
       "      <td>499</td>\n",
       "      <td></td>\n",
       "      <td>False</td>\n",
       "      <td>0</td>\n",
       "      <td>0</td>\n",
       "      <td>2020-11-01 18:44:59</td>\n",
       "      <td>This man called MODI was counting list of GHOT...</td>\n",
       "      <td>Neutral</td>\n",
       "    </tr>\n",
       "    <tr>\n",
       "      <th>1</th>\n",
       "      <td>#BiharElections2020 | The Hasanpur assembly co...</td>\n",
       "      <td>Hindustan Times</td>\n",
       "      <td>795994</td>\n",
       "      <td>7800741</td>\n",
       "      <td>India</td>\n",
       "      <td>True</td>\n",
       "      <td>7</td>\n",
       "      <td>0</td>\n",
       "      <td>2020-11-01 18:15:00</td>\n",
       "      <td>BiharElections2020 The Hasanpur assembly const...</td>\n",
       "      <td>Neutral</td>\n",
       "    </tr>\n",
       "    <tr>\n",
       "      <th>2</th>\n",
       "      <td>RT @htTweets: #BiharElections2020 | With sharp...</td>\n",
       "      <td>Arun Kumar</td>\n",
       "      <td>8191</td>\n",
       "      <td>2604</td>\n",
       "      <td>Patna</td>\n",
       "      <td>False</td>\n",
       "      <td>0</td>\n",
       "      <td>2</td>\n",
       "      <td>2020-11-01 16:46:32</td>\n",
       "      <td>RT BiharElections2020 With sharp attack on Opp...</td>\n",
       "      <td>Positive</td>\n",
       "    </tr>\n",
       "    <tr>\n",
       "      <th>3</th>\n",
       "      <td>RT @htTweets: #BiharElections2020 | With sharp...</td>\n",
       "      <td>Aditya Kumar</td>\n",
       "      <td>100023</td>\n",
       "      <td>851</td>\n",
       "      <td>New Delhi, India</td>\n",
       "      <td>False</td>\n",
       "      <td>0</td>\n",
       "      <td>2</td>\n",
       "      <td>2020-11-01 16:17:39</td>\n",
       "      <td>RT BiharElections2020 With sharp attack on Opp...</td>\n",
       "      <td>Positive</td>\n",
       "    </tr>\n",
       "    <tr>\n",
       "      <th>4</th>\n",
       "      <td>#BiharElections2020 | With sharp attack on Opp...</td>\n",
       "      <td>Hindustan Times</td>\n",
       "      <td>795994</td>\n",
       "      <td>7800741</td>\n",
       "      <td>India</td>\n",
       "      <td>True</td>\n",
       "      <td>16</td>\n",
       "      <td>2</td>\n",
       "      <td>2020-11-01 16:15:00</td>\n",
       "      <td>BiharElections2020 With sharp attack on Opposi...</td>\n",
       "      <td>Positive</td>\n",
       "    </tr>\n",
       "  </tbody>\n",
       "</table>\n",
       "</div>"
      ],
      "text/plain": [
       "                                              Tweets             User  \\\n",
       "0  This man called MODI was counting list of GHOT...              RAJ   \n",
       "1  #BiharElections2020 | The Hasanpur assembly co...  Hindustan Times   \n",
       "2  RT @htTweets: #BiharElections2020 | With sharp...       Arun Kumar   \n",
       "3  RT @htTweets: #BiharElections2020 | With sharp...     Aditya Kumar   \n",
       "4  #BiharElections2020 | With sharp attack on Opp...  Hindustan Times   \n",
       "\n",
       "  User_statuses_count user_followers     User_location User_verified  \\\n",
       "0               59075            499                           False   \n",
       "1              795994        7800741             India          True   \n",
       "2                8191           2604             Patna         False   \n",
       "3              100023            851  New Delhi, India         False   \n",
       "4              795994        7800741             India          True   \n",
       "\n",
       "  fav_count rt_count           tweet_date  \\\n",
       "0         0        0  2020-11-01 18:44:59   \n",
       "1         7        0  2020-11-01 18:15:00   \n",
       "2         0        2  2020-11-01 16:46:32   \n",
       "3         0        2  2020-11-01 16:17:39   \n",
       "4        16        2  2020-11-01 16:15:00   \n",
       "\n",
       "                                         clean_tweet Sentiment  \n",
       "0  This man called MODI was counting list of GHOT...   Neutral  \n",
       "1  BiharElections2020 The Hasanpur assembly const...   Neutral  \n",
       "2  RT BiharElections2020 With sharp attack on Opp...  Positive  \n",
       "3  RT BiharElections2020 With sharp attack on Opp...  Positive  \n",
       "4  BiharElections2020 With sharp attack on Opposi...  Positive  "
      ]
     },
     "execution_count": 42,
     "metadata": {},
     "output_type": "execute_result"
    }
   ],
   "source": [
    "df['Sentiment'] = df['clean_tweet'].apply(lambda x : analyze_sentiment(x) )\n",
    "df.head()"
   ]
  },
  {
   "cell_type": "code",
   "execution_count": 43,
   "metadata": {},
   "outputs": [
    {
     "name": "stdout",
     "output_type": "stream",
     "text": [
      "Original tweet:\n",
      " #BiharElections2020 | The Hasanpur assembly constituencey comes under the Khagaria Lok Sabha constituency\n",
      "\n",
      "Candidat… https://t.co/BRauSeUVP8\n",
      "\n",
      "Clean tweet:\n",
      " BiharElections2020 The Hasanpur assembly constituencey comes under the Khagaria Lok Sabha constituency Candidat\n",
      "\n",
      "Sentiment of the tweet:\n",
      " Neutral\n"
     ]
    }
   ],
   "source": [
    "n = 1\n",
    "print(\"Original tweet:\\n\",df['Tweets'][n])\n",
    "print()\n",
    "print(\"Clean tweet:\\n\",df['clean_tweet'][n])\n",
    "print()\n",
    "print(\"Sentiment of the tweet:\\n\",df['Sentiment'][n])"
   ]
  },
  {
   "cell_type": "code",
   "execution_count": 44,
   "metadata": {},
   "outputs": [],
   "source": [
    "def check(n):\n",
    "    print(\"Original tweet:\\n\",df['Tweets'][n])\n",
    "    print()\n",
    "    print(\"Clean tweet:\\n\",df['clean_tweet'][n])\n",
    "    print()\n",
    "    print(\"Sentiment of the tweet:\\n\",df['Sentiment'][n])\n",
    "    "
   ]
  },
  {
   "cell_type": "code",
   "execution_count": 45,
   "metadata": {},
   "outputs": [
    {
     "name": "stdout",
     "output_type": "stream",
     "text": [
      "Original tweet:\n",
      " #BiharElections2020 | The Hasanpur assembly constituencey comes under the Khagaria Lok Sabha constituency\n",
      "\n",
      "Candidat… https://t.co/BRauSeUVP8\n",
      "\n",
      "Clean tweet:\n",
      " BiharElections2020 The Hasanpur assembly constituencey comes under the Khagaria Lok Sabha constituency Candidat\n",
      "\n",
      "Sentiment of the tweet:\n",
      " Neutral\n"
     ]
    }
   ],
   "source": [
    "check(1)"
   ]
  },
  {
   "cell_type": "code",
   "execution_count": 46,
   "metadata": {},
   "outputs": [
    {
     "name": "stdout",
     "output_type": "stream",
     "text": [
      "Original tweet:\n",
      " RT @htTweets: #BiharElections2020 | With sharp attack on Opposition, PM Modi’s message is loud and clear\n",
      "\n",
      "#ElectionsWithHT\n",
      "\n",
      "(report by @Aru…\n",
      "\n",
      "Clean tweet:\n",
      " RT BiharElections2020 With sharp attack on Opposition PM Modi s message is loud and clear ElectionsWithHT report by\n",
      "\n",
      "Sentiment of the tweet:\n",
      " Positive\n"
     ]
    }
   ],
   "source": [
    "check(3)"
   ]
  },
  {
   "cell_type": "code",
   "execution_count": 47,
   "metadata": {},
   "outputs": [
    {
     "data": {
      "text/plain": [
       "176"
      ]
     },
     "execution_count": 47,
     "metadata": {},
     "output_type": "execute_result"
    }
   ],
   "source": [
    "df[df.Sentiment == 'Positive'].shape[0]"
   ]
  },
  {
   "cell_type": "code",
   "execution_count": 48,
   "metadata": {},
   "outputs": [
    {
     "data": {
      "text/plain": [
       "110"
      ]
     },
     "execution_count": 48,
     "metadata": {},
     "output_type": "execute_result"
    }
   ],
   "source": [
    "df[df.Sentiment == 'Negative'].shape[0]"
   ]
  },
  {
   "cell_type": "code",
   "execution_count": 51,
   "metadata": {},
   "outputs": [
    {
     "data": {
      "text/plain": [
       "714"
      ]
     },
     "execution_count": 51,
     "metadata": {},
     "output_type": "execute_result"
    }
   ],
   "source": [
    "df[df.Sentiment == 'Neutral'].shape[0]"
   ]
  },
  {
   "cell_type": "code",
   "execution_count": null,
   "metadata": {},
   "outputs": [],
   "source": []
  }
 ],
 "metadata": {
  "kernelspec": {
   "display_name": "Python 3",
   "language": "python",
   "name": "python3"
  },
  "language_info": {
   "codemirror_mode": {
    "name": "ipython",
    "version": 3
   },
   "file_extension": ".py",
   "mimetype": "text/x-python",
   "name": "python",
   "nbconvert_exporter": "python",
   "pygments_lexer": "ipython3",
   "version": "3.7.6"
  }
 },
 "nbformat": 4,
 "nbformat_minor": 4
}
