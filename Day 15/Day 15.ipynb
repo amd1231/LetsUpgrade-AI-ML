{
 "cells": [
  {
   "cell_type": "code",
   "execution_count": 2,
   "metadata": {},
   "outputs": [
    {
     "name": "stdout",
     "output_type": "stream",
     "text": [
      "ahmed\n"
     ]
    }
   ],
   "source": [
    "print(\"ahmed\")"
   ]
  },
  {
   "cell_type": "code",
   "execution_count": 3,
   "metadata": {},
   "outputs": [],
   "source": [
    "import numpy as np"
   ]
  },
  {
   "cell_type": "markdown",
   "metadata": {},
   "source": [
    "Que 1:"
   ]
  },
  {
   "cell_type": "code",
   "execution_count": 19,
   "metadata": {},
   "outputs": [],
   "source": [
    "arr1 = np.random.random((3,3,3))"
   ]
  },
  {
   "cell_type": "code",
   "execution_count": 20,
   "metadata": {},
   "outputs": [
    {
     "name": "stdout",
     "output_type": "stream",
     "text": [
      "[[[0.88774896 0.80247544 0.37105185]\n",
      "  [0.18580808 0.20432886 0.95571124]\n",
      "  [0.38820692 0.76041687 0.14051632]]\n",
      "\n",
      " [[0.08611123 0.88429968 0.75226626]\n",
      "  [0.12422588 0.01303833 0.22143613]\n",
      "  [0.49507987 0.12797246 0.3853634 ]]\n",
      "\n",
      " [[0.19958454 0.34295114 0.47283719]\n",
      "  [0.89080315 0.130173   0.75185079]\n",
      "  [0.15812101 0.89551686 0.09611766]]]\n"
     ]
    }
   ],
   "source": [
    "print(arr1)"
   ]
  },
  {
   "cell_type": "code",
   "execution_count": 23,
   "metadata": {},
   "outputs": [
    {
     "name": "stdout",
     "output_type": "stream",
     "text": [
      "<class 'numpy.ndarray'>\n",
      "(3, 3, 3)\n"
     ]
    }
   ],
   "source": [
    "print(type(arr1))\n",
    "print(arr1.shape)"
   ]
  },
  {
   "cell_type": "markdown",
   "metadata": {},
   "source": [
    "Que 2 :"
   ]
  },
  {
   "cell_type": "code",
   "execution_count": 48,
   "metadata": {},
   "outputs": [
    {
     "name": "stdout",
     "output_type": "stream",
     "text": [
      "[[0 0 0 0 0]\n",
      " [0 1 0 0 0]\n",
      " [0 0 2 0 0]\n",
      " [0 0 0 3 0]\n",
      " [0 0 0 0 4]]\n"
     ]
    }
   ],
   "source": [
    "arr2 = np.diag(np.arange(5),k=0)\n",
    "print(arr2)"
   ]
  },
  {
   "cell_type": "code",
   "execution_count": 45,
   "metadata": {},
   "outputs": [
    {
     "name": "stdout",
     "output_type": "stream",
     "text": [
      "<class 'numpy.ndarray'>\n",
      "(5, 5)\n"
     ]
    }
   ],
   "source": [
    "print(type(arr2))\n",
    "print(arr2.shape)"
   ]
  },
  {
   "cell_type": "markdown",
   "metadata": {},
   "source": [
    "Que 3 :"
   ]
  },
  {
   "cell_type": "code",
   "execution_count": 72,
   "metadata": {},
   "outputs": [
    {
     "name": "stdout",
     "output_type": "stream",
     "text": [
      "[[1. 0. 1. 0. 1. 0. 1. 0.]\n",
      " [0. 1. 0. 1. 0. 1. 0. 1.]\n",
      " [1. 0. 1. 0. 1. 0. 1. 0.]\n",
      " [0. 1. 0. 1. 0. 1. 0. 1.]\n",
      " [1. 0. 1. 0. 1. 0. 1. 0.]\n",
      " [0. 1. 0. 1. 0. 1. 0. 1.]\n",
      " [1. 0. 1. 0. 1. 0. 1. 0.]\n",
      " [0. 1. 0. 1. 0. 1. 0. 1.]]\n",
      "Shape of mtrix\n",
      "(8, 8)\n"
     ]
    }
   ],
   "source": [
    "arr3 = np.ones((8,8))\n",
    "arr3[1::2,::2] = 0\n",
    "arr3[::2,1::2] = 0 \n",
    "print(arr3)\n",
    "print(\"Shape of mtrix\")\n",
    "print(arr3.shape)"
   ]
  },
  {
   "cell_type": "markdown",
   "metadata": {},
   "source": [
    "Que 4 :"
   ]
  },
  {
   "cell_type": "code",
   "execution_count": null,
   "metadata": {},
   "outputs": [],
   "source": []
  },
  {
   "cell_type": "markdown",
   "metadata": {},
   "source": [
    "Que 5 :"
   ]
  },
  {
   "cell_type": "code",
   "execution_count": 80,
   "metadata": {},
   "outputs": [
    {
     "name": "stdout",
     "output_type": "stream",
     "text": [
      "common values: \n",
      "[20 30]\n"
     ]
    }
   ],
   "source": [
    "arr4 = np.array([10,20,30])\n",
    "arr5 = np.array([20,30,40])\n",
    "print(\"common values: \")\n",
    "arr6 = (np.intersect1d(arr4,arr5))\n",
    "print(arr6)"
   ]
  },
  {
   "cell_type": "markdown",
   "metadata": {},
   "source": [
    "Que 6 :"
   ]
  },
  {
   "cell_type": "code",
   "execution_count": 89,
   "metadata": {},
   "outputs": [
    {
     "name": "stdout",
     "output_type": "stream",
     "text": [
      "Yesterady was:  2020-07-25\n",
      "Today is:  2020-07-26\n",
      "Tommorow is:  2020-07-27\n"
     ]
    }
   ],
   "source": [
    "yest = np.datetime64('today', 'D') - 1\n",
    "print(\"Yesterady was: \",yest)\n",
    "today = np.datetime64('today', 'D')\n",
    "print(\"Today is: \",today)\n",
    "tomm = np.datetime64('today', 'D') + 1\n",
    "print(\"Tommorow is: \",tomm)\n"
   ]
  },
  {
   "cell_type": "markdown",
   "metadata": {},
   "source": [
    "Que 7 :"
   ]
  },
  {
   "cell_type": "code",
   "execution_count": 104,
   "metadata": {},
   "outputs": [
    {
     "name": "stdout",
     "output_type": "stream",
     "text": [
      "[0.85835605 0.88320298 0.50791545 0.2883295  0.71329568 0.34916142]\n",
      "\n",
      " [0.39669397 0.08218282 0.24566611 0.7488148  0.26069216 0.04798673]\n",
      "\n",
      " False\n"
     ]
    }
   ],
   "source": [
    "arr2 = np.random.random(6)\n",
    "arr3 = np.random.random(6)\n",
    "print(arr2)\n",
    "print(\"\\n\",arr3)\n",
    "equ = np.array_equal(arr2,arr3)\n",
    "print(\"\\n\",equ)\n",
    "\n",
    "\n"
   ]
  },
  {
   "cell_type": "markdown",
   "metadata": {},
   "source": [
    "Que 8:\n"
   ]
  },
  {
   "cell_type": "code",
   "execution_count": 113,
   "metadata": {
    "scrolled": true
   },
   "outputs": [
    {
     "name": "stdout",
     "output_type": "stream",
     "text": [
      "Original array :\n",
      " [0.27740279 0.5084668  0.55926836 0.91876046 0.84914793 0.83179967\n",
      " 0.18392938 0.52680613 0.2308737  0.00126488]\n",
      "After finding the max number: \n",
      "[0.27740279 0.5084668  0.55926836 0.         0.84914793 0.83179967\n",
      " 0.18392938 0.52680613 0.2308737  0.00126488]\n"
     ]
    }
   ],
   "source": [
    "import numpy as np\n",
    "arr4 = np.random.random(10)\n",
    "print(\"Original array :\\n\",arr4)\n",
    "\n",
    "arr4[arr4.argmax()] = 0\n",
    "print(\"After finding the max number: \")\n",
    "print(arr4)\n",
    "\n",
    "\n"
   ]
  },
  {
   "cell_type": "markdown",
   "metadata": {},
   "source": [
    "Que 9 :"
   ]
  },
  {
   "cell_type": "code",
   "execution_count": 114,
   "metadata": {},
   "outputs": [
    {
     "name": "stdout",
     "output_type": "stream",
     "text": [
      "[0.80585736 0.7522635  0.75481389 0.24382944 0.72325533 0.88610293\n",
      " 0.6584711  0.52583173 0.9066349  0.78131887]\n"
     ]
    }
   ],
   "source": [
    "arr4 = np.random.random(10)\n",
    "print(arr4)"
   ]
  },
  {
   "cell_type": "markdown",
   "metadata": {},
   "source": [
    "Que 10 :"
   ]
  },
  {
   "cell_type": "code",
   "execution_count": 42,
   "metadata": {},
   "outputs": [
    {
     "name": "stdout",
     "output_type": "stream",
     "text": [
      "Matrix is :\n",
      " [[2 5 8]\n",
      " [6 9 6]\n",
      " [6 6 7]]\n",
      "Mean of row is :\n",
      "  [5.         7.         6.33333333]\n",
      "Substracton is :\n",
      " [[-3.         -2.          1.66666667]\n",
      " [ 1.          2.         -0.33333333]\n",
      " [ 1.         -1.          0.66666667]]\n"
     ]
    }
   ],
   "source": [
    "arr5 = np.random.randint(1, 10, (3,3))\n",
    "print(\"Matrix is :\\n\",arr5)\n",
    "mean = arr5.mean(axis=1)\n",
    "print(\"Mean of row is :\\n \",mean)\n",
    "sub = arr5 - mean\n",
    "print(\"Substracton is :\\n\",sub)"
   ]
  },
  {
   "cell_type": "markdown",
   "metadata": {},
   "source": [
    "Que 11:"
   ]
  },
  {
   "cell_type": "code",
   "execution_count": null,
   "metadata": {},
   "outputs": [],
   "source": []
  },
  {
   "cell_type": "markdown",
   "metadata": {},
   "source": [
    "Que 12: "
   ]
  },
  {
   "cell_type": "code",
   "execution_count": 117,
   "metadata": {},
   "outputs": [
    {
     "name": "stdout",
     "output_type": "stream",
     "text": [
      "[[1 2]\n",
      " [4 3]]\n",
      "[[1 2]\n",
      " [4 3]]\n",
      "DOT Product is :  [ 9 17]\n"
     ]
    }
   ],
   "source": [
    "arr4 = np.array([[1, 2], [4, 3]])\n",
    "arr5 = np.array([[1, 2], [4, 3]])\n",
    "print(arr4)\n",
    "print(arr5)\n",
    "\n",
    "ans = np.diag(np.dot(arr4,arr5))\n",
    "print(\"DOT Product is : \",ans)"
   ]
  },
  {
   "cell_type": "markdown",
   "metadata": {},
   "source": [
    "Que 13 :"
   ]
  },
  {
   "cell_type": "code",
   "execution_count": 126,
   "metadata": {},
   "outputs": [
    {
     "name": "stdout",
     "output_type": "stream",
     "text": [
      "[1 0 2 9 4 8 9 7 5 5 1 7 5 6 2 2 3 0 9 2 2 9 7 7 1 9 9 9 3 7]\n",
      "Most frequent number is : 9\n"
     ]
    }
   ],
   "source": [
    "arr6 = np.random.randint(0,10,30)\n",
    "print(arr6)\n",
    "most_freq = np.bincount(arr6).argmax()\n",
    "print(\"Most frequent number is :\",most_freq)"
   ]
  },
  {
   "cell_type": "markdown",
   "metadata": {},
   "source": [
    "Que 14 :"
   ]
  },
  {
   "cell_type": "code",
   "execution_count": 12,
   "metadata": {},
   "outputs": [
    {
     "name": "stdout",
     "output_type": "stream",
     "text": [
      "How many values?3\n",
      "[47 33 46  9 56  3 60 39 70 28 17 89 21 39 49 58 58  3 50 34]\n",
      "The values are :  [89, 70, 60]\n"
     ]
    }
   ],
   "source": [
    "\n",
    "n = int(input(\"How many values?\"))\n",
    "arr6 = np.random.randint(0, 10*10,20)\n",
    "print(arr6)\n",
    "b=np.unique(arr6)\n",
    "ans = list(b[-n:])\n",
    "desc = ans[::-1]\n",
    "print(\"The values are : \",desc)\n"
   ]
  },
  {
   "cell_type": "markdown",
   "metadata": {},
   "source": [
    "Que 15 :"
   ]
  },
  {
   "cell_type": "code",
   "execution_count": 27,
   "metadata": {},
   "outputs": [
    {
     "name": "stdout",
     "output_type": "stream",
     "text": [
      "(1, 'ahmed')\n",
      "(2, 'morve')\n",
      "(3, 'letsupgrade')\n",
      "(4, 'amd')\n",
      "<class 'numpy.recarray'>\n"
     ]
    }
   ],
   "source": [
    "arr7 = np.array([1,2,3,4])\n",
    "arr8 = np.array(['ahmed','morve','letsupgrade','amd'])\n",
    "rec_arr = np.core.records.fromarrays([arr7,arr8])\n",
    "print(rec_arr[0])\n",
    "print(rec_arr[1])\n",
    "print(rec_arr[2])\n",
    "print(rec_arr[3])\n",
    "\n",
    "print(type(rec_arr))"
   ]
  },
  {
   "cell_type": "code",
   "execution_count": null,
   "metadata": {},
   "outputs": [],
   "source": []
  },
  {
   "cell_type": "code",
   "execution_count": null,
   "metadata": {},
   "outputs": [],
   "source": []
  }
 ],
 "metadata": {
  "kernelspec": {
   "display_name": "Python 3",
   "language": "python",
   "name": "python3"
  }
 },
 "nbformat": 4,
 "nbformat_minor": 4
}
