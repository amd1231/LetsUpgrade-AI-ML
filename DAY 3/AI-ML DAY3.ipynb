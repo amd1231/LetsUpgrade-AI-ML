{
 "cells": [
  {
   "cell_type": "markdown",
   "metadata": {},
   "source": [
    "#  DAY 3"
   ]
  },
  {
   "cell_type": "markdown",
   "metadata": {},
   "source": [
    "__QUE 1:__"
   ]
  },
  {
   "cell_type": "code",
   "execution_count": 2,
   "metadata": {},
   "outputs": [
    {
     "name": "stdout",
     "output_type": "stream",
     "text": [
      "Enter value for a: 4+3j\n",
      "Enter value for b: 5+4j\n",
      "Value of a is:  (4+3j)\n",
      "Value of b is:  (5+4j)\n",
      "Substraction is :  (-1-1j)\n"
     ]
    }
   ],
   "source": [
    "\n",
    "a = complex(input(\"Enter value for a: \"))\n",
    "b = complex(input(\"Enter value for b: \"))\n",
    "print(\"Value of a is: \",a)\n",
    "print(\"Value of b is: \",b)\n",
    "c = a - b\n",
    "print(\"Substraction is : \",c)\n"
   ]
  },
  {
   "cell_type": "markdown",
   "metadata": {},
   "source": [
    "__QUE 2:__"
   ]
  },
  {
   "cell_type": "code",
   "execution_count": 14,
   "metadata": {},
   "outputs": [
    {
     "name": "stdout",
     "output_type": "stream",
     "text": [
      "Enter the number: 8\n",
      "The fourth root of number is:  2.0\n"
     ]
    }
   ],
   "source": [
    "d = int(input(\"Enter the number: \"))\n",
    "\n",
    "fsqrt = d ** 1/4\n",
    "print(\"The fourth root of number is: \",fsqrt)"
   ]
  },
  {
   "cell_type": "markdown",
   "metadata": {},
   "source": [
    "__QUE 3__"
   ]
  },
  {
   "cell_type": "code",
   "execution_count": 15,
   "metadata": {},
   "outputs": [
    {
     "name": "stdout",
     "output_type": "stream",
     "text": [
      "Enter any number: 4\n",
      "Enter any number: 5\n",
      "Value before swapping is:  (4, 5)\n",
      "value after swapping is  (5, 4)\n"
     ]
    }
   ],
   "source": [
    "e = int(input(\"Enter any number: \"))\n",
    "f = int(input(\"Enter any number: \"))\n",
    "print(\"Value before swapping is: \",(e,f))\n",
    "temp = e\n",
    "e = f\n",
    "f = temp\n",
    "print(\"value after swapping is \",(e,f))"
   ]
  },
  {
   "cell_type": "markdown",
   "metadata": {},
   "source": [
    "__QUE 4__"
   ]
  },
  {
   "cell_type": "code",
   "execution_count": 16,
   "metadata": {},
   "outputs": [
    {
     "name": "stdout",
     "output_type": "stream",
     "text": [
      "Enter any number: 5\n",
      "Enter any number: 6\n",
      "Value before swapping is:  (5, 6)\n",
      "Value after swapping is:  (6, 5)\n"
     ]
    }
   ],
   "source": [
    "g = int(input(\"Enter any number: \"))\n",
    "h = int(input(\"Enter any number: \"))\n",
    "print(\"Value before swapping is: \",(g,h))\n",
    "g = g + h\n",
    "h = g - h\n",
    "g = g - h\n",
    "print(\"Value after swapping is: \",(g,h))"
   ]
  },
  {
   "cell_type": "markdown",
   "metadata": {},
   "source": [
    "__QUE 5__"
   ]
  },
  {
   "cell_type": "code",
   "execution_count": 35,
   "metadata": {},
   "outputs": [
    {
     "name": "stdout",
     "output_type": "stream",
     "text": [
      "Enter the temp in  fahrenheit 99\n",
      "TO CONVERT IN KELVIN\n",
      "Temperature in Kelvin is :  310.72222222222223\n",
      "TO CONVERT IN Celsius\n",
      "Temperature in Celsius is :  37.22222222222222\n"
     ]
    }
   ],
   "source": [
    "fahr = float(input(\"Enter the temp in  fahrenheit \"))\n",
    "print(\"TO CONVERT IN KELVIN\")\n",
    "kelvin = 273.5 + ((fahr - 32.0) * (5.0/9.0))\n",
    "print(\"Temperature in Kelvin is : \",kelvin)\n",
    "print(\"TO CONVERT IN Celsius\")\n",
    "celsius = (fahr - 32) * 5 / 9\n",
    "print(\"Temperature in Celsius is : \",celsius)\n",
    "\n",
    "\n"
   ]
  },
  {
   "cell_type": "markdown",
   "metadata": {},
   "source": [
    "__QUE 6__"
   ]
  },
  {
   "cell_type": "code",
   "execution_count": 44,
   "metadata": {},
   "outputs": [
    {
     "name": "stdout",
     "output_type": "stream",
     "text": [
      "<class 'int'>\n",
      "<class 'float'>\n",
      "<class 'complex'>\n",
      "<class 'dict'>\n",
      "<class 'list'>\n",
      "<class 'tuple'>\n",
      "<class 'str'>\n",
      "<class 'set'>\n"
     ]
    }
   ],
   "source": [
    "i = 3\n",
    "print(type(i))\n",
    "j = 3.14\n",
    "print(type(j))\n",
    "k = 3+4j\n",
    "print(type(k))\n",
    "l ={1:\"LetsUpgrade\", 2:\"Ahmed\", 3:\"Morve\"}\n",
    "print(type(l))\n",
    "m = ([1,2,3,4])\n",
    "print(type(m))\n",
    "n = ((\"LetsUpgrade\",\"Ahmed\",\"Morve\"))\n",
    "print(type(n))\n",
    "o = \"AHMED\"\n",
    "print(type(o))\n",
    "p={1, \"AI-ML\", 2000}\n",
    "print(type(p))\n",
    "\n"
   ]
  },
  {
   "cell_type": "markdown",
   "metadata": {},
   "source": [
    "__QUE 7__"
   ]
  },
  {
   "cell_type": "markdown",
   "metadata": {},
   "source": [
    "MARKDOWN CELL\n",
    "__MARKDOWN CELL__\n",
    "___MARKDOWN CELL___\n",
    "\n",
    "# MARKDOWN CELL \n",
    "\n",
    "## MARKDOWN CELL\n",
    "\n",
    "### MARKDOWN CELL"
   ]
  },
  {
   "cell_type": "raw",
   "metadata": {},
   "source": [
    "STEPS:\n",
    "1. Visit the GITHUB link and sign in to the github account\n",
    "2. Github is used to store the projects/code of the users\n",
    "3. GITHUB repo can be public or Private.\n",
    "4. From our notebook where the code is saved in the folder  \n",
    "5. Go to GITHUB and create new repo and give name LETSUPGRADE AI-ML.\n",
    "6. Type the name\n",
    "7. Keep the repo public.\n",
    "8. Click on Upload option.\n",
    "9. Drag and Drop the file.\n",
    "10. Do click on cCOMMIT CHANGES.\n",
    "11. Repo will be created with the folder.\n",
    "\n"
   ]
  },
  {
   "cell_type": "code",
   "execution_count": null,
   "metadata": {},
   "outputs": [],
   "source": []
  }
 ],
 "metadata": {
  "kernelspec": {
   "display_name": "Python 3",
   "language": "python",
   "name": "python3"
  },
  "language_info": {
   "codemirror_mode": {
    "name": "ipython",
    "version": 3
   },
   "file_extension": ".py",
   "mimetype": "text/x-python",
   "name": "python",
   "nbconvert_exporter": "python",
   "pygments_lexer": "ipython3",
   "version": "3.7.6"
  }
 },
 "nbformat": 4,
 "nbformat_minor": 4
}
