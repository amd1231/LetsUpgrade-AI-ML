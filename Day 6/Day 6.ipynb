{
 "cells": [
  {
   "cell_type": "markdown",
   "metadata": {},
   "source": [
    "Que1:"
   ]
  },
  {
   "cell_type": "code",
   "execution_count": 6,
   "metadata": {},
   "outputs": [
    {
     "name": "stdout",
     "output_type": "stream",
     "text": [
      "Enter the email address: ahmedmorve@hotmail.com\n",
      "Entered address is : ahmedmorve@hotmail.com\n",
      "Company name:  hotmail\n"
     ]
    }
   ],
   "source": [
    "def companyname(company):\n",
    "    name = company.split('@')[1].split('.')[0]\n",
    "    print(\"Company name: \",name)\n",
    "    \n",
    "email = input(\"Enter the email address: \")\n",
    "print(\"Entered address is :\", email)\n",
    "companyname(email)"
   ]
  },
  {
   "cell_type": "markdown",
   "metadata": {},
   "source": [
    "Que2:"
   ]
  },
  {
   "cell_type": "code",
   "execution_count": 13,
   "metadata": {},
   "outputs": [
    {
     "name": "stdout",
     "output_type": "stream",
     "text": [
      "Enter the words: without,hello,bag,world\n",
      "Sorted sequence is:  bag,hello,without,world\n"
     ]
    }
   ],
   "source": [
    "def words(word):\n",
    "    word = word.split(\",\")\n",
    "    word = sorted(word)\n",
    "    print(\"Sorted sequence is: \", ','.join(word))\n",
    "\n",
    "given_words = input(\"Enter the words: \")\n",
    "words(given_words)"
   ]
  },
  {
   "cell_type": "markdown",
   "metadata": {},
   "source": [
    "Que3:"
   ]
  },
  {
   "cell_type": "code",
   "execution_count": 46,
   "metadata": {},
   "outputs": [
    {
     "name": "stdout",
     "output_type": "stream",
     "text": [
      "{'ahmed', 1, 'morve', 1.999}\n",
      "{1, 2, 3, 4, 5}\n",
      "{3, 4, 5, 6, 7}\n",
      "<class 'set'>\n",
      "SOME OPERATIONS ON SET\n",
      "ahmed\n",
      "1\n",
      "morve\n",
      "1.999\n",
      "True\n",
      "{1, 1.999, 'ahmed', 'LetUpgrader', 'morve'}\n",
      "{1, 1.999, 'ahmed', 'LetUpgrader', 'Love_LetsUpgrade', 'morve'}\n",
      "6\n",
      "{1, 1.999, 'ahmed', 'Love_LetsUpgrade', 'morve'}\n",
      "set()\n",
      "{1, 2, 3, 4, 5, 6, 7}\n",
      "{1, 2}\n",
      "{3, 4, 5}\n",
      "False\n",
      "False\n",
      "{1, 2, 6, 7}\n",
      "{2, 3, 4, 5}\n"
     ]
    }
   ],
   "source": [
    "set1 = {\"ahmed\",1,1.999,\"morve\"}\n",
    "print(set1)\n",
    "set2 = {1,2,3,4,5}\n",
    "set3 = {3,4,5,6,7}\n",
    "print(set2)\n",
    "print(set3)\n",
    "print(type(set1))\n",
    "print(\"SOME OPERATIONS ON SET\")\n",
    "for i in set1:  # to access all elements\n",
    "    print(i)\n",
    "print(\"ahmed\" in set1) # to check wheether ahmed is present in set1\n",
    "set1.add(\"LetUpgrader\") # to add eelement in set\n",
    "print(set1)\n",
    "set1.update([\"Love_LetsUpgrade\"]) # to update in the set\n",
    "print(set1)\n",
    "print(len(set1)) # to print the length of set\n",
    "set1.remove(\"LetUpgrader\")\n",
    "print(set1)\n",
    "set1.clear() # to clear set\n",
    "print(set1)\n",
    "set4 = set2.union(set3)  #for union of set\n",
    "print(set4)\n",
    "set5 = set2.difference(set3)  #for difference of set\n",
    "print(set5)\n",
    "set6 = set2.intersection(set3)  # intersection of set\n",
    "print(set6)\n",
    "set7 = set2.issubset(set3) #to check whethet set is subset\n",
    "print(set7)\n",
    "set8 = set2.isdisjoint(set3)   #to check whethet set is disjoint set\n",
    "print(set7)\n",
    "set9 = set2.symmetric_difference(set3)  # to get the symmeteric differnece of set\n",
    "print(set9)\n",
    "set2.remove(1)  #to remove the element of set\n",
    "print(set2)\n"
   ]
  },
  {
   "cell_type": "markdown",
   "metadata": {},
   "source": [
    "Que4:"
   ]
  },
  {
   "cell_type": "code",
   "execution_count": 70,
   "metadata": {},
   "outputs": [
    {
     "name": "stdout",
     "output_type": "stream",
     "text": [
      "Enter the numbers: 1 2 3 4 6\n",
      "Missing number is: 5\n"
     ]
    }
   ],
   "source": [
    "list1=input(\"Enter the numbers: \")\n",
    "list1= list1.split(' ')\n",
    "list2=[]\n",
    "for i in list1:\n",
    "    list2.append(int(i))\n",
    "num = len(list2)+2\n",
    "for i in range(1, num):\n",
    "    if i not in list2:\n",
    "        res=i\n",
    "print('Missing number is:',res)"
   ]
  },
  {
   "cell_type": "markdown",
   "metadata": {},
   "source": [
    "Que5:"
   ]
  },
  {
   "cell_type": "code",
   "execution_count": 88,
   "metadata": {},
   "outputs": [
    {
     "name": "stdout",
     "output_type": "stream",
     "text": [
      "Enter the numbers: 12 24 35 24 88 120 155 88 120 155\n",
      "Entered list is:  ['12', '24', '35', '24', '88', '120', '155', '88', '120', '155']\n",
      "Afyer removing all duplicates :  12 24 35 88 120 155\n"
     ]
    }
   ],
   "source": [
    "list3 = input(\"Enter the numbers: \")\n",
    "list3 = list3.split(\" \")\n",
    "print(\"Entered list is: \",list3)\n",
    "list4 = []\n",
    "for i in list3:\n",
    "     if i not in list4:\n",
    "        list4.append(i)\n",
    "list5=\" \".join(list4)\n",
    "print(\"Afyer removing all duplicates : \",list5)\n",
    "\n",
    "\n"
   ]
  },
  {
   "cell_type": "code",
   "execution_count": null,
   "metadata": {},
   "outputs": [],
   "source": []
  },
  {
   "cell_type": "code",
   "execution_count": null,
   "metadata": {},
   "outputs": [],
   "source": []
  }
 ],
 "metadata": {
  "kernelspec": {
   "display_name": "Python 3",
   "language": "python",
   "name": "python3"
  },
  "language_info": {
   "codemirror_mode": {
    "name": "ipython",
    "version": 3
   },
   "file_extension": ".py",
   "mimetype": "text/x-python",
   "name": "python",
   "nbconvert_exporter": "python",
   "pygments_lexer": "ipython3",
   "version": "3.7.6"
  }
 },
 "nbformat": 4,
 "nbformat_minor": 4
}
