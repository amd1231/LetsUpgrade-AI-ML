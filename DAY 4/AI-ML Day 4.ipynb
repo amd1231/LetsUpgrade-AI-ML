{
 "cells": [
  {
   "cell_type": "markdown",
   "metadata": {},
   "source": [
    "# DAY 4"
   ]
  },
  {
   "cell_type": "raw",
   "metadata": {},
   "source": [
    "QUE 1:"
   ]
  },
  {
   "cell_type": "markdown",
   "metadata": {},
   "source": [
    "__ADDITION,SUBSTRACTION,MULTIPLICATION and DIVISION__ of theComplex number is possible. But we  cannot take the mod and floor of the complex numbers"
   ]
  },
  {
   "cell_type": "code",
   "execution_count": 9,
   "metadata": {},
   "outputs": [
    {
     "name": "stdout",
     "output_type": "stream",
     "text": [
      "Enter the first complex number: 2+6j\n",
      "Enter the second complex number: 4+1j\n",
      "Addition of numbers is:  (6+7j)\n",
      "Substraction of numbers is:  (-2+5j)\n",
      "Multiplication of numbers is:  (2+26j)\n",
      "Division of numbers is:  (0.8235294117647058+1.2941176470588236j)\n"
     ]
    }
   ],
   "source": [
    "a = complex(input(\"Enter the first complex number: \"))\n",
    "b = complex(input(\"Enter the second complex number: \"))\n",
    "add = a + b\n",
    "sub = a - b\n",
    "mul = a * b\n",
    "div = a / b\n",
    "print(\"Addition of numbers is: \",add)\n",
    "print(\"Substraction of numbers is: \",sub)\n",
    "print(\"Multiplication of numbers is: \",mul)\n",
    "print(\"Division of numbers is: \",div)\n",
    "\n"
   ]
  },
  {
   "cell_type": "raw",
   "metadata": {},
   "source": [
    "Que 2:"
   ]
  },
  {
   "cell_type": "markdown",
   "metadata": {},
   "source": [
    "__RANGE()__\n",
    "1.range() function is built in python function mainly used in loops like \"FOR\" loop and \"WHILE\" loop.\n",
    "\n",
    "2.This function is used to genrate the series from between the numbers that are specified.\n",
    "\n",
    "3.It continues executing the loop until the range gets completed.\n",
    "\n",
    "4.It has 3 parameters range(start,end,step) that specifies that loop starts from and end-1 at and increments by the specified steps."
   ]
  },
  {
   "cell_type": "code",
   "execution_count": 12,
   "metadata": {},
   "outputs": [
    {
     "name": "stdout",
     "output_type": "stream",
     "text": [
      "1\n",
      "4\n",
      "9\n",
      "16\n",
      "25\n",
      "36\n",
      "49\n",
      "64\n",
      "81\n",
      "100\n"
     ]
    }
   ],
   "source": [
    "for i in range(1,11):\n",
    "    print(i * i)\n",
    "\n"
   ]
  },
  {
   "cell_type": "raw",
   "metadata": {},
   "source": [
    "Que 3:"
   ]
  },
  {
   "cell_type": "code",
   "execution_count": 16,
   "metadata": {},
   "outputs": [
    {
     "name": "stdout",
     "output_type": "stream",
     "text": [
      "Enter the number: 26\n",
      "Enter the number: 4\n",
      "Substraction of two numbers is:  22.0\n",
      "-------------------------------\n",
      "Do Division\n",
      "Divison of numbers is:  6.5\n"
     ]
    }
   ],
   "source": [
    "c = float(input(\"Enter the number: \"))\n",
    "d = float(input(\"Enter the number: \"))\n",
    "e = c - d\n",
    "print(\"Substraction of two numbers is: \",e)\n",
    "print(\"-------------------------------\")\n",
    "if e > 25:\n",
    "    print(\"Do Multiplication: \")\n",
    "    f = c * d\n",
    "    print(\"Multiplication of numbers is: \",f)\n",
    "else:\n",
    "    print(\"Do Division\")\n",
    "    g = c / d\n",
    "    print(\"Divison of numbers is: \",g)"
   ]
  },
  {
   "cell_type": "raw",
   "metadata": {},
   "source": [
    "Que 4:"
   ]
  },
  {
   "cell_type": "code",
   "execution_count": 18,
   "metadata": {},
   "outputs": [
    {
     "name": "stdout",
     "output_type": "stream",
     "text": [
      "2\n",
      "14\n",
      "34\n",
      "62\n",
      "98\n"
     ]
    }
   ],
   "source": [
    "h = [1,2,3,4,5,6,7,8,9,10]\n",
    "for i in h:\n",
    "    if(i % 2 == 0):\n",
    "        print((i ** 2)-2)\n"
   ]
  },
  {
   "cell_type": "raw",
   "metadata": {},
   "source": [
    "Que 5:"
   ]
  },
  {
   "cell_type": "code",
   "execution_count": 20,
   "metadata": {},
   "outputs": [
    {
     "name": "stdout",
     "output_type": "stream",
     "text": [
      "15\n",
      "16\n",
      "17\n",
      "18\n",
      "19\n"
     ]
    }
   ],
   "source": [
    "j = [10,11,12,13,14,15,16,17,18,19]\n",
    "for i in j:\n",
    "    if i / 2 > 7:\n",
    "        print(i)"
   ]
  },
  {
   "cell_type": "code",
   "execution_count": null,
   "metadata": {},
   "outputs": [],
   "source": []
  }
 ],
 "metadata": {
  "kernelspec": {
   "display_name": "Python 3",
   "language": "python",
   "name": "python3"
  },
  "language_info": {
   "codemirror_mode": {
    "name": "ipython",
    "version": 3
   },
   "file_extension": ".py",
   "mimetype": "text/x-python",
   "name": "python",
   "nbconvert_exporter": "python",
   "pygments_lexer": "ipython3",
   "version": "3.7.6"
  }
 },
 "nbformat": 4,
 "nbformat_minor": 4
}
